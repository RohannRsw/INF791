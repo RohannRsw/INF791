{
 "cells": [
  {
   "cell_type": "code",
   "execution_count": 12,
   "id": "ed7df6f9-6dc7-46be-ad71-5b1791aab10b",
   "metadata": {},
   "outputs": [],
   "source": [
    "import pandas as pd\n",
    "import numpy as np\n",
    "import matplotlib.pyplot as plt\n",
    "import seaborn as sns\n",
    "from scipy import stats\n",
    "from sklearn.preprocessing import StandardScaler"
   ]
  },
  {
   "cell_type": "markdown",
   "id": "88d36330-8524-439a-912d-9ee28be0e163",
   "metadata": {},
   "source": [
    "# Data Collection (Remove unnecassary coloumns)"
   ]
  },
  {
   "cell_type": "code",
   "execution_count": 13,
   "id": "7d5e4bff-3303-4c7f-9028-74e19e235d50",
   "metadata": {},
   "outputs": [
    {
     "data": {
      "text/html": [
       "<div>\n",
       "<style scoped>\n",
       "    .dataframe tbody tr th:only-of-type {\n",
       "        vertical-align: middle;\n",
       "    }\n",
       "\n",
       "    .dataframe tbody tr th {\n",
       "        vertical-align: top;\n",
       "    }\n",
       "\n",
       "    .dataframe thead th {\n",
       "        text-align: right;\n",
       "    }\n",
       "</style>\n",
       "<table border=\"1\" class=\"dataframe\">\n",
       "  <thead>\n",
       "    <tr style=\"text-align: right;\">\n",
       "      <th></th>\n",
       "      <th>Nickname</th>\n",
       "      <th>Defender Score</th>\n",
       "      <th>Attacker Score</th>\n",
       "      <th>Time (sec)</th>\n",
       "      <th>Winner</th>\n",
       "      <th>Level</th>\n",
       "    </tr>\n",
       "  </thead>\n",
       "  <tbody>\n",
       "    <tr>\n",
       "      <th>0</th>\n",
       "      <td>u20444550</td>\n",
       "      <td>8.0</td>\n",
       "      <td>5.0</td>\n",
       "      <td>138.0</td>\n",
       "      <td>Defender</td>\n",
       "      <td>Expert</td>\n",
       "    </tr>\n",
       "    <tr>\n",
       "      <th>1</th>\n",
       "      <td>u20444550</td>\n",
       "      <td>8.0</td>\n",
       "      <td>5.0</td>\n",
       "      <td>137.0</td>\n",
       "      <td>Defender</td>\n",
       "      <td>Expert</td>\n",
       "    </tr>\n",
       "    <tr>\n",
       "      <th>2</th>\n",
       "      <td>u20444550</td>\n",
       "      <td>10.0</td>\n",
       "      <td>3.0</td>\n",
       "      <td>118.0</td>\n",
       "      <td>Defender</td>\n",
       "      <td>Expert</td>\n",
       "    </tr>\n",
       "    <tr>\n",
       "      <th>3</th>\n",
       "      <td>u20444550</td>\n",
       "      <td>8.0</td>\n",
       "      <td>5.0</td>\n",
       "      <td>112.0</td>\n",
       "      <td>Defender</td>\n",
       "      <td>Expert</td>\n",
       "    </tr>\n",
       "    <tr>\n",
       "      <th>4</th>\n",
       "      <td>u20444550</td>\n",
       "      <td>9.0</td>\n",
       "      <td>4.0</td>\n",
       "      <td>107.0</td>\n",
       "      <td>Defender</td>\n",
       "      <td>Expert</td>\n",
       "    </tr>\n",
       "  </tbody>\n",
       "</table>\n",
       "</div>"
      ],
      "text/plain": [
       "    Nickname  Defender Score  Attacker Score  Time (sec)    Winner   Level\n",
       "0  u20444550             8.0             5.0       138.0  Defender  Expert\n",
       "1  u20444550             8.0             5.0       137.0  Defender  Expert\n",
       "2  u20444550            10.0             3.0       118.0  Defender  Expert\n",
       "3  u20444550             8.0             5.0       112.0  Defender  Expert\n",
       "4  u20444550             9.0             4.0       107.0  Defender  Expert"
      ]
     },
     "execution_count": 13,
     "metadata": {},
     "output_type": "execute_result"
    }
   ],
   "source": [
    "import os\n",
    "import pandas as pd\n",
    "\n",
    "f_path = \"D:\\\\DataScience\\\\Dataset\"\n",
    "\n",
    "df_list = []\n",
    "\n",
    "for file_name in os.listdir(f_path):\n",
    "    # Check if the file is a CSV file\n",
    "    if file_name.endswith('.csv'):\n",
    "        # Create the full file path\n",
    "        file_path = os.path.join(f_path, file_name)\n",
    "        # Read the CSV file into a DataFrame\n",
    "        Dataframe = pd.read_csv(file_path)\n",
    "        # Append the DataFrame to the list\n",
    "        df_list.append(Dataframe)\n",
    "\n",
    "cdf = pd.concat(df_list, ignore_index=True)\n",
    "cdf = cdf.iloc[:, :-3]\n",
    "\n",
    "cdf.head()\n",
    "\n"
   ]
  },
  {
   "cell_type": "markdown",
   "id": "04adee75-e7fe-4129-a72c-1f867c2a8a94",
   "metadata": {},
   "source": [
    "# Data Cleaning Process"
   ]
  },
  {
   "cell_type": "markdown",
   "id": "3dffecbe-a7c5-4982-a5cb-4f10c5ae8180",
   "metadata": {},
   "source": [
    "# Remove NaN values"
   ]
  },
  {
   "cell_type": "code",
   "execution_count": 14,
   "id": "b5f43606-4402-428d-8450-f56d322dd346",
   "metadata": {},
   "outputs": [],
   "source": [
    "cdf = cdf.dropna()"
   ]
  },
  {
   "cell_type": "markdown",
   "id": "500901f4-2177-4191-afd2-358d2fe775a2",
   "metadata": {},
   "source": [
    "# Resulting number of clean data values"
   ]
  },
  {
   "cell_type": "code",
   "execution_count": 15,
   "id": "1d876f6f-b8aa-4107-ad4d-65e3c371665e",
   "metadata": {},
   "outputs": [
    {
     "data": {
      "text/plain": [
       "Nickname          1451\n",
       "Defender Score    1451\n",
       "Attacker Score    1451\n",
       "Time (sec)        1451\n",
       "Winner            1451\n",
       "Level             1451\n",
       "dtype: int64"
      ]
     },
     "execution_count": 15,
     "metadata": {},
     "output_type": "execute_result"
    }
   ],
   "source": [
    "cdf.count()"
   ]
  },
  {
   "cell_type": "markdown",
   "id": "168e92f2-de8b-4940-8633-7c785d0d214b",
   "metadata": {},
   "source": [
    "# Describing the dataframe"
   ]
  },
  {
   "cell_type": "code",
   "execution_count": 16,
   "id": "f16ec413-de26-4728-a8ee-1a2fffc544a6",
   "metadata": {},
   "outputs": [
    {
     "data": {
      "text/html": [
       "<div>\n",
       "<style scoped>\n",
       "    .dataframe tbody tr th:only-of-type {\n",
       "        vertical-align: middle;\n",
       "    }\n",
       "\n",
       "    .dataframe tbody tr th {\n",
       "        vertical-align: top;\n",
       "    }\n",
       "\n",
       "    .dataframe thead th {\n",
       "        text-align: right;\n",
       "    }\n",
       "</style>\n",
       "<table border=\"1\" class=\"dataframe\">\n",
       "  <thead>\n",
       "    <tr style=\"text-align: right;\">\n",
       "      <th></th>\n",
       "      <th>Defender Score</th>\n",
       "      <th>Attacker Score</th>\n",
       "      <th>Time (sec)</th>\n",
       "    </tr>\n",
       "  </thead>\n",
       "  <tbody>\n",
       "    <tr>\n",
       "      <th>count</th>\n",
       "      <td>1451.000000</td>\n",
       "      <td>1451.000000</td>\n",
       "      <td>1451.000000</td>\n",
       "    </tr>\n",
       "    <tr>\n",
       "      <th>mean</th>\n",
       "      <td>6.897312</td>\n",
       "      <td>6.033081</td>\n",
       "      <td>166.139904</td>\n",
       "    </tr>\n",
       "    <tr>\n",
       "      <th>std</th>\n",
       "      <td>2.052366</td>\n",
       "      <td>2.038325</td>\n",
       "      <td>122.530623</td>\n",
       "    </tr>\n",
       "    <tr>\n",
       "      <th>min</th>\n",
       "      <td>0.000000</td>\n",
       "      <td>0.000000</td>\n",
       "      <td>37.000000</td>\n",
       "    </tr>\n",
       "    <tr>\n",
       "      <th>25%</th>\n",
       "      <td>5.000000</td>\n",
       "      <td>5.000000</td>\n",
       "      <td>109.000000</td>\n",
       "    </tr>\n",
       "    <tr>\n",
       "      <th>50%</th>\n",
       "      <td>7.000000</td>\n",
       "      <td>6.000000</td>\n",
       "      <td>140.000000</td>\n",
       "    </tr>\n",
       "    <tr>\n",
       "      <th>75%</th>\n",
       "      <td>8.000000</td>\n",
       "      <td>7.000000</td>\n",
       "      <td>185.000000</td>\n",
       "    </tr>\n",
       "    <tr>\n",
       "      <th>max</th>\n",
       "      <td>13.000000</td>\n",
       "      <td>13.000000</td>\n",
       "      <td>1738.000000</td>\n",
       "    </tr>\n",
       "  </tbody>\n",
       "</table>\n",
       "</div>"
      ],
      "text/plain": [
       "       Defender Score  Attacker Score   Time (sec)\n",
       "count     1451.000000     1451.000000  1451.000000\n",
       "mean         6.897312        6.033081   166.139904\n",
       "std          2.052366        2.038325   122.530623\n",
       "min          0.000000        0.000000    37.000000\n",
       "25%          5.000000        5.000000   109.000000\n",
       "50%          7.000000        6.000000   140.000000\n",
       "75%          8.000000        7.000000   185.000000\n",
       "max         13.000000       13.000000  1738.000000"
      ]
     },
     "execution_count": 16,
     "metadata": {},
     "output_type": "execute_result"
    }
   ],
   "source": [
    "cdf.describe()"
   ]
  }
 ],
 "metadata": {
  "kernelspec": {
   "display_name": "Python 3 (ipykernel)",
   "language": "python",
   "name": "python3"
  },
  "language_info": {
   "codemirror_mode": {
    "name": "ipython",
    "version": 3
   },
   "file_extension": ".py",
   "mimetype": "text/x-python",
   "name": "python",
   "nbconvert_exporter": "python",
   "pygments_lexer": "ipython3",
   "version": "3.12.5"
  }
 },
 "nbformat": 4,
 "nbformat_minor": 5
}
